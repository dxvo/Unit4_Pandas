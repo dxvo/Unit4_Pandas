{
 "cells": [
  {
   "cell_type": "code",
   "execution_count": 1,
   "metadata": {},
   "outputs": [],
   "source": [
    "# Dependencies and Setup\n",
    "import pandas as pd\n",
    "import numpy as np\n",
    "\n",
    "# File to Load (Remember to Change These)\n",
    "school_data_to_load = \"Resources/schools_complete.csv\"\n",
    "student_data_to_load = \"Resources/students_complete.csv\"\n",
    "\n",
    "# Read School and Student Data File and store into Pandas Data Frames\n",
    "school_data = pd.read_csv(school_data_to_load)\n",
    "student_data = pd.read_csv(student_data_to_load)\n",
    "\n",
    "# Combine the data into a single dataset\n",
    "school_data_complete = pd.merge(student_data, school_data, on=[\"school_name\"])\n",
    "#school_data_complete.head(3)"
   ]
  },
  {
   "cell_type": "markdown",
   "metadata": {},
   "source": [
    "## District summary"
   ]
  },
  {
   "cell_type": "code",
   "execution_count": 2,
   "metadata": {},
   "outputs": [
    {
     "data": {
      "text/html": [
       "<div>\n",
       "<style scoped>\n",
       "    .dataframe tbody tr th:only-of-type {\n",
       "        vertical-align: middle;\n",
       "    }\n",
       "\n",
       "    .dataframe tbody tr th {\n",
       "        vertical-align: top;\n",
       "    }\n",
       "\n",
       "    .dataframe thead th {\n",
       "        text-align: right;\n",
       "    }\n",
       "</style>\n",
       "<table border=\"1\" class=\"dataframe\">\n",
       "  <thead>\n",
       "    <tr style=\"text-align: right;\">\n",
       "      <th></th>\n",
       "      <th>Total Schools</th>\n",
       "      <th>Total Students</th>\n",
       "      <th>Total Budget</th>\n",
       "      <th>Average Math Score</th>\n",
       "      <th>Average Reading Score</th>\n",
       "      <th>% Passing Math</th>\n",
       "      <th>% Passing Reading</th>\n",
       "      <th>% Overall Passing Rate</th>\n",
       "    </tr>\n",
       "  </thead>\n",
       "  <tbody>\n",
       "    <tr>\n",
       "      <th>0</th>\n",
       "      <td>15</td>\n",
       "      <td>39170</td>\n",
       "      <td>24649428</td>\n",
       "      <td>78.9854</td>\n",
       "      <td>81.8778</td>\n",
       "      <td>74.980853</td>\n",
       "      <td>85.805463</td>\n",
       "      <td>80.393158</td>\n",
       "    </tr>\n",
       "  </tbody>\n",
       "</table>\n",
       "</div>"
      ],
      "text/plain": [
       "   Total Schools  Total Students  Total Budget  Average Math Score  \\\n",
       "0             15           39170      24649428             78.9854   \n",
       "\n",
       "   Average Reading Score  % Passing Math  % Passing Reading  \\\n",
       "0                81.8778       74.980853          85.805463   \n",
       "\n",
       "   % Overall Passing Rate  \n",
       "0               80.393158  "
      ]
     },
     "execution_count": 2,
     "metadata": {},
     "output_type": "execute_result"
    }
   ],
   "source": [
    "total_schools = len(school_data['school_name'])\n",
    "total_student = len(student_data['Student ID'])\n",
    "total_budget = school_data['budget'].sum()\n",
    "avg_math_score = round(student_data['math_score'].sum()/total_student,4)\n",
    "avg_reading_score = round(student_data['reading_score'].sum()/total_student,4)\n",
    "percent_pass_math = len(student_data[student_data['math_score'] >= 70])*100/total_student\n",
    "percent_pass_reading = len(student_data[student_data['reading_score'] >= 70])*100/total_student\n",
    "overall_passing = (percent_pass_math + percent_pass_reading)/2\n",
    "\n",
    "#District Summary \n",
    "district_summary = pd.DataFrame({\"Total Schools\": [total_schools], \"Total Students\": [total_student],\n",
    "           \"Total Budget\": [total_budget], \"Average Math Score\":[avg_math_score],\n",
    "           \"Average Reading Score\":[avg_reading_score], \"% Passing Math\":[percent_pass_math],\n",
    "          \"% Passing Reading\":[percent_pass_reading], \"% Overall Passing Rate\":[overall_passing]\n",
    "          })\n",
    "district_summary.head()"
   ]
  },
  {
   "cell_type": "markdown",
   "metadata": {},
   "source": [
    "## School Summary"
   ]
  },
  {
   "cell_type": "code",
   "execution_count": 3,
   "metadata": {},
   "outputs": [],
   "source": [
    "#groupby_school = school_data_complete.groupby(['school_name'])\n",
    "school_name = school_data_complete['school_name'].unique()\n",
    "school_summary = {}\n",
    "for name in school_name:\n",
    "    school_summary.update({name:[]}) #dictionary of all the school\n",
    "\n",
    "for i in range(len(school_name)):\n",
    "    data = school_data_complete[school_data_complete['school_name'] == school_name[i]] #get a subset of the data with that shcool name \n",
    "    \n",
    "    #name = school_name[i]\n",
    "    school_type = list(data['type'])[0]\n",
    "    total_student = data['Student ID'].count()\n",
    "    total_school_budget = list(data['budget'])[0]\n",
    "    Per_Student_Budget = total_school_budget/total_student\n",
    "    average_math_score = round(data['math_score'].sum()/total_student,4)\n",
    "    average_reading_score = round(data['reading_score'].sum()/total_student,4)\n",
    "    pass_math = round(len(data[data['math_score'] >= 70])*100/total_student,4)\n",
    "    pass_reading = round(len(data[data['reading_score'] >= 70])*100/total_student,4)\n",
    "    avg_passing_rate = round((pass_math + pass_reading)/2,4)\n",
    "    school_summary[school_name[i]] = [school_type,total_student,total_school_budget,\n",
    "                                      Per_Student_Budget,average_math_score,average_reading_score,\n",
    "                                      pass_math,pass_reading,avg_passing_rate]\n",
    "\n",
    "#create DataFrame\n",
    "result = pd.DataFrame(school_summary)\n",
    "label = [['School Type','Total Students','Total School Budget',\n",
    "          'Per Student Budget','Average Math Score','Average Reading Score','% Passing Math','% Passing Reading','% Overall Passing Rate']]\n",
    "result_t = result.set_index(label).T"
   ]
  },
  {
   "cell_type": "markdown",
   "metadata": {},
   "source": [
    "## Top Performing Schools (By Passing Rate)"
   ]
  },
  {
   "cell_type": "code",
   "execution_count": 5,
   "metadata": {},
   "outputs": [
    {
     "data": {
      "text/html": [
       "<div>\n",
       "<style scoped>\n",
       "    .dataframe tbody tr th:only-of-type {\n",
       "        vertical-align: middle;\n",
       "    }\n",
       "\n",
       "    .dataframe tbody tr th {\n",
       "        vertical-align: top;\n",
       "    }\n",
       "\n",
       "    .dataframe thead th {\n",
       "        text-align: right;\n",
       "    }\n",
       "</style>\n",
       "<table border=\"1\" class=\"dataframe\">\n",
       "  <thead>\n",
       "    <tr style=\"text-align: right;\">\n",
       "      <th></th>\n",
       "      <th>School Type</th>\n",
       "      <th>Total Students</th>\n",
       "      <th>Total School Budget</th>\n",
       "      <th>Per Student Budget</th>\n",
       "      <th>Average Math Score</th>\n",
       "      <th>Average Reading Score</th>\n",
       "      <th>% Passing Math</th>\n",
       "      <th>% Passing Reading</th>\n",
       "      <th>% Overall Passing Rate</th>\n",
       "    </tr>\n",
       "  </thead>\n",
       "  <tbody>\n",
       "    <tr>\n",
       "      <th>Cabrera High School</th>\n",
       "      <td>Charter</td>\n",
       "      <td>1858</td>\n",
       "      <td>1081356</td>\n",
       "      <td>582</td>\n",
       "      <td>83.0619</td>\n",
       "      <td>83.9758</td>\n",
       "      <td>94.1335</td>\n",
       "      <td>97.0398</td>\n",
       "      <td>95.5866</td>\n",
       "    </tr>\n",
       "    <tr>\n",
       "      <th>Thomas High School</th>\n",
       "      <td>Charter</td>\n",
       "      <td>1635</td>\n",
       "      <td>1043130</td>\n",
       "      <td>638</td>\n",
       "      <td>83.4183</td>\n",
       "      <td>83.8489</td>\n",
       "      <td>93.2722</td>\n",
       "      <td>97.3089</td>\n",
       "      <td>95.2906</td>\n",
       "    </tr>\n",
       "    <tr>\n",
       "      <th>Pena High School</th>\n",
       "      <td>Charter</td>\n",
       "      <td>962</td>\n",
       "      <td>585858</td>\n",
       "      <td>609</td>\n",
       "      <td>83.8399</td>\n",
       "      <td>84.0447</td>\n",
       "      <td>94.5946</td>\n",
       "      <td>95.9459</td>\n",
       "      <td>95.2702</td>\n",
       "    </tr>\n",
       "    <tr>\n",
       "      <th>Griffin High School</th>\n",
       "      <td>Charter</td>\n",
       "      <td>1468</td>\n",
       "      <td>917500</td>\n",
       "      <td>625</td>\n",
       "      <td>83.3515</td>\n",
       "      <td>83.8168</td>\n",
       "      <td>93.3924</td>\n",
       "      <td>97.139</td>\n",
       "      <td>95.2657</td>\n",
       "    </tr>\n",
       "    <tr>\n",
       "      <th>Wilson High School</th>\n",
       "      <td>Charter</td>\n",
       "      <td>2283</td>\n",
       "      <td>1319574</td>\n",
       "      <td>578</td>\n",
       "      <td>83.2742</td>\n",
       "      <td>83.9895</td>\n",
       "      <td>93.8677</td>\n",
       "      <td>96.5396</td>\n",
       "      <td>95.2036</td>\n",
       "    </tr>\n",
       "  </tbody>\n",
       "</table>\n",
       "</div>"
      ],
      "text/plain": [
       "                    School Type Total Students Total School Budget  \\\n",
       "Cabrera High School     Charter           1858             1081356   \n",
       "Thomas High School      Charter           1635             1043130   \n",
       "Pena High School        Charter            962              585858   \n",
       "Griffin High School     Charter           1468              917500   \n",
       "Wilson High School      Charter           2283             1319574   \n",
       "\n",
       "                    Per Student Budget Average Math Score  \\\n",
       "Cabrera High School                582            83.0619   \n",
       "Thomas High School                 638            83.4183   \n",
       "Pena High School                   609            83.8399   \n",
       "Griffin High School                625            83.3515   \n",
       "Wilson High School                 578            83.2742   \n",
       "\n",
       "                    Average Reading Score % Passing Math % Passing Reading  \\\n",
       "Cabrera High School               83.9758        94.1335           97.0398   \n",
       "Thomas High School                83.8489        93.2722           97.3089   \n",
       "Pena High School                  84.0447        94.5946           95.9459   \n",
       "Griffin High School               83.8168        93.3924            97.139   \n",
       "Wilson High School                83.9895        93.8677           96.5396   \n",
       "\n",
       "                    % Overall Passing Rate  \n",
       "Cabrera High School                95.5866  \n",
       "Thomas High School                 95.2906  \n",
       "Pena High School                   95.2702  \n",
       "Griffin High School                95.2657  \n",
       "Wilson High School                 95.2036  "
      ]
     },
     "execution_count": 5,
     "metadata": {},
     "output_type": "execute_result"
    }
   ],
   "source": [
    "result_t.sort_values(by = ['% Overall Passing Rate'], ascending = False).head(5)\n"
   ]
  },
  {
   "cell_type": "markdown",
   "metadata": {},
   "source": [
    "## Bottom Performing Schools (By Passing Rate)"
   ]
  },
  {
   "cell_type": "code",
   "execution_count": 6,
   "metadata": {},
   "outputs": [
    {
     "data": {
      "text/html": [
       "<div>\n",
       "<style scoped>\n",
       "    .dataframe tbody tr th:only-of-type {\n",
       "        vertical-align: middle;\n",
       "    }\n",
       "\n",
       "    .dataframe tbody tr th {\n",
       "        vertical-align: top;\n",
       "    }\n",
       "\n",
       "    .dataframe thead th {\n",
       "        text-align: right;\n",
       "    }\n",
       "</style>\n",
       "<table border=\"1\" class=\"dataframe\">\n",
       "  <thead>\n",
       "    <tr style=\"text-align: right;\">\n",
       "      <th></th>\n",
       "      <th>School Type</th>\n",
       "      <th>Total Students</th>\n",
       "      <th>Total School Budget</th>\n",
       "      <th>Per Student Budget</th>\n",
       "      <th>Average Math Score</th>\n",
       "      <th>Average Reading Score</th>\n",
       "      <th>% Passing Math</th>\n",
       "      <th>% Passing Reading</th>\n",
       "      <th>% Overall Passing Rate</th>\n",
       "    </tr>\n",
       "  </thead>\n",
       "  <tbody>\n",
       "    <tr>\n",
       "      <th>Rodriguez High School</th>\n",
       "      <td>District</td>\n",
       "      <td>3999</td>\n",
       "      <td>2547363</td>\n",
       "      <td>637</td>\n",
       "      <td>76.8427</td>\n",
       "      <td>80.7447</td>\n",
       "      <td>66.3666</td>\n",
       "      <td>80.2201</td>\n",
       "      <td>73.2934</td>\n",
       "    </tr>\n",
       "    <tr>\n",
       "      <th>Figueroa High School</th>\n",
       "      <td>District</td>\n",
       "      <td>2949</td>\n",
       "      <td>1884411</td>\n",
       "      <td>639</td>\n",
       "      <td>76.7118</td>\n",
       "      <td>81.158</td>\n",
       "      <td>65.9885</td>\n",
       "      <td>80.7392</td>\n",
       "      <td>73.3638</td>\n",
       "    </tr>\n",
       "    <tr>\n",
       "      <th>Huang High School</th>\n",
       "      <td>District</td>\n",
       "      <td>2917</td>\n",
       "      <td>1910635</td>\n",
       "      <td>655</td>\n",
       "      <td>76.6294</td>\n",
       "      <td>81.1827</td>\n",
       "      <td>65.6839</td>\n",
       "      <td>81.3164</td>\n",
       "      <td>73.5001</td>\n",
       "    </tr>\n",
       "    <tr>\n",
       "      <th>Johnson High School</th>\n",
       "      <td>District</td>\n",
       "      <td>4761</td>\n",
       "      <td>3094650</td>\n",
       "      <td>650</td>\n",
       "      <td>77.0725</td>\n",
       "      <td>80.9664</td>\n",
       "      <td>66.0576</td>\n",
       "      <td>81.2224</td>\n",
       "      <td>73.64</td>\n",
       "    </tr>\n",
       "    <tr>\n",
       "      <th>Ford High School</th>\n",
       "      <td>District</td>\n",
       "      <td>2739</td>\n",
       "      <td>1763916</td>\n",
       "      <td>644</td>\n",
       "      <td>77.1026</td>\n",
       "      <td>80.7463</td>\n",
       "      <td>68.3096</td>\n",
       "      <td>79.299</td>\n",
       "      <td>73.8043</td>\n",
       "    </tr>\n",
       "  </tbody>\n",
       "</table>\n",
       "</div>"
      ],
      "text/plain": [
       "                      School Type Total Students Total School Budget  \\\n",
       "Rodriguez High School    District           3999             2547363   \n",
       "Figueroa High School     District           2949             1884411   \n",
       "Huang High School        District           2917             1910635   \n",
       "Johnson High School      District           4761             3094650   \n",
       "Ford High School         District           2739             1763916   \n",
       "\n",
       "                      Per Student Budget Average Math Score  \\\n",
       "Rodriguez High School                637            76.8427   \n",
       "Figueroa High School                 639            76.7118   \n",
       "Huang High School                    655            76.6294   \n",
       "Johnson High School                  650            77.0725   \n",
       "Ford High School                     644            77.1026   \n",
       "\n",
       "                      Average Reading Score % Passing Math % Passing Reading  \\\n",
       "Rodriguez High School               80.7447        66.3666           80.2201   \n",
       "Figueroa High School                 81.158        65.9885           80.7392   \n",
       "Huang High School                   81.1827        65.6839           81.3164   \n",
       "Johnson High School                 80.9664        66.0576           81.2224   \n",
       "Ford High School                    80.7463        68.3096            79.299   \n",
       "\n",
       "                      % Overall Passing Rate  \n",
       "Rodriguez High School                73.2934  \n",
       "Figueroa High School                 73.3638  \n",
       "Huang High School                    73.5001  \n",
       "Johnson High School                    73.64  \n",
       "Ford High School                     73.8043  "
      ]
     },
     "execution_count": 6,
     "metadata": {},
     "output_type": "execute_result"
    }
   ],
   "source": [
    "result_t.sort_values(by = ['% Overall Passing Rate']).head(5)"
   ]
  },
  {
   "cell_type": "markdown",
   "metadata": {},
   "source": [
    "## Math Scores by Grade"
   ]
  },
  {
   "cell_type": "code",
   "execution_count": 120,
   "metadata": {},
   "outputs": [
    {
     "data": {
      "text/html": [
       "<div>\n",
       "<style scoped>\n",
       "    .dataframe tbody tr th:only-of-type {\n",
       "        vertical-align: middle;\n",
       "    }\n",
       "\n",
       "    .dataframe tbody tr th {\n",
       "        vertical-align: top;\n",
       "    }\n",
       "\n",
       "    .dataframe thead th {\n",
       "        text-align: right;\n",
       "    }\n",
       "</style>\n",
       "<table border=\"1\" class=\"dataframe\">\n",
       "  <thead>\n",
       "    <tr style=\"text-align: right;\">\n",
       "      <th></th>\n",
       "      <th>9th</th>\n",
       "      <th>10th</th>\n",
       "      <th>11th</th>\n",
       "      <th>12th</th>\n",
       "    </tr>\n",
       "  </thead>\n",
       "  <tbody>\n",
       "    <tr>\n",
       "      <th>Huang High School</th>\n",
       "      <td>77.03</td>\n",
       "      <td>75.91</td>\n",
       "      <td>76.45</td>\n",
       "      <td>77.23</td>\n",
       "    </tr>\n",
       "    <tr>\n",
       "      <th>Figueroa High School</th>\n",
       "      <td>76.4</td>\n",
       "      <td>76.54</td>\n",
       "      <td>76.88</td>\n",
       "      <td>77.15</td>\n",
       "    </tr>\n",
       "    <tr>\n",
       "      <th>Shelton High School</th>\n",
       "      <td>83.42</td>\n",
       "      <td>82.92</td>\n",
       "      <td>83.38</td>\n",
       "      <td>83.78</td>\n",
       "    </tr>\n",
       "    <tr>\n",
       "      <th>Hernandez High School</th>\n",
       "      <td>77.44</td>\n",
       "      <td>77.34</td>\n",
       "      <td>77.14</td>\n",
       "      <td>77.19</td>\n",
       "    </tr>\n",
       "    <tr>\n",
       "      <th>Griffin High School</th>\n",
       "      <td>82.04</td>\n",
       "      <td>84.23</td>\n",
       "      <td>83.84</td>\n",
       "      <td>83.36</td>\n",
       "    </tr>\n",
       "    <tr>\n",
       "      <th>Wilson High School</th>\n",
       "      <td>83.09</td>\n",
       "      <td>83.72</td>\n",
       "      <td>83.2</td>\n",
       "      <td>83.04</td>\n",
       "    </tr>\n",
       "    <tr>\n",
       "      <th>Cabrera High School</th>\n",
       "      <td>83.09</td>\n",
       "      <td>83.15</td>\n",
       "      <td>82.77</td>\n",
       "      <td>83.28</td>\n",
       "    </tr>\n",
       "    <tr>\n",
       "      <th>Bailey High School</th>\n",
       "      <td>77.08</td>\n",
       "      <td>77</td>\n",
       "      <td>77.52</td>\n",
       "      <td>76.49</td>\n",
       "    </tr>\n",
       "    <tr>\n",
       "      <th>Holden High School</th>\n",
       "      <td>83.79</td>\n",
       "      <td>83.43</td>\n",
       "      <td>85</td>\n",
       "      <td>82.86</td>\n",
       "    </tr>\n",
       "    <tr>\n",
       "      <th>Pena High School</th>\n",
       "      <td>83.63</td>\n",
       "      <td>83.37</td>\n",
       "      <td>84.33</td>\n",
       "      <td>84.12</td>\n",
       "    </tr>\n",
       "    <tr>\n",
       "      <th>Wright High School</th>\n",
       "      <td>83.26</td>\n",
       "      <td>84.01</td>\n",
       "      <td>83.84</td>\n",
       "      <td>83.64</td>\n",
       "    </tr>\n",
       "    <tr>\n",
       "      <th>Rodriguez High School</th>\n",
       "      <td>76.86</td>\n",
       "      <td>76.61</td>\n",
       "      <td>76.4</td>\n",
       "      <td>77.69</td>\n",
       "    </tr>\n",
       "    <tr>\n",
       "      <th>Johnson High School</th>\n",
       "      <td>77.19</td>\n",
       "      <td>76.69</td>\n",
       "      <td>77.49</td>\n",
       "      <td>76.86</td>\n",
       "    </tr>\n",
       "    <tr>\n",
       "      <th>Ford High School</th>\n",
       "      <td>77.36</td>\n",
       "      <td>77.67</td>\n",
       "      <td>76.92</td>\n",
       "      <td>76.18</td>\n",
       "    </tr>\n",
       "    <tr>\n",
       "      <th>Thomas High School</th>\n",
       "      <td>83.59</td>\n",
       "      <td>83.09</td>\n",
       "      <td>83.5</td>\n",
       "      <td>83.5</td>\n",
       "    </tr>\n",
       "  </tbody>\n",
       "</table>\n",
       "</div>"
      ],
      "text/plain": [
       "                         9th   10th   11th   12th\n",
       "Huang High School      77.03  75.91  76.45  77.23\n",
       "Figueroa High School    76.4  76.54  76.88  77.15\n",
       "Shelton High School    83.42  82.92  83.38  83.78\n",
       "Hernandez High School  77.44  77.34  77.14  77.19\n",
       "Griffin High School    82.04  84.23  83.84  83.36\n",
       "Wilson High School     83.09  83.72   83.2  83.04\n",
       "Cabrera High School    83.09  83.15  82.77  83.28\n",
       "Bailey High School     77.08     77  77.52  76.49\n",
       "Holden High School     83.79  83.43     85  82.86\n",
       "Pena High School       83.63  83.37  84.33  84.12\n",
       "Wright High School     83.26  84.01  83.84  83.64\n",
       "Rodriguez High School  76.86  76.61   76.4  77.69\n",
       "Johnson High School    77.19  76.69  77.49  76.86\n",
       "Ford High School       77.36  77.67  76.92  76.18\n",
       "Thomas High School     83.59  83.09   83.5   83.5"
      ]
     },
     "execution_count": 120,
     "metadata": {},
     "output_type": "execute_result"
    }
   ],
   "source": [
    "#get unique school name and store in school_grade \n",
    "grade = school_data_complete['grade'].unique()\n",
    "\n",
    "#function to sort grade (small - large) - for display purposes \n",
    "def sort_grade(school_grade_list):\n",
    "    arr=[]\n",
    "    for grade in school_grade:\n",
    "        temp = grade.replace('th',\"\")\n",
    "        arr.append(int(temp))\n",
    "\n",
    "    arr.sort()\n",
    "    result =[]\n",
    "    for number in arr:\n",
    "        result.append(str(number)+'th')\n",
    "    return result\n",
    "\n",
    "#grade after sort\n",
    "school_grade = sort_grade(grade)\n",
    "\n",
    "#create an empty dataFrame and append in data\n",
    "math_by_grade = pd.DataFrame(index = school_name, columns = school_grade) #empty DataFrame \n",
    "for school in school_name:\n",
    "    for grade in school_grade:\n",
    "        temp_df = school_data_complete[(school_data_complete['school_name'] == school) & (school_data_complete['grade']== grade)]\n",
    "        tem_grade = round(temp_df['math_score'].sum()/len(temp_df),2)\n",
    "        math_by_grade.loc[school,grade] = tem_grade\n",
    "\n",
    "math_by_grade"
   ]
  },
  {
   "cell_type": "code",
   "execution_count": null,
   "metadata": {},
   "outputs": [],
   "source": []
  },
  {
   "cell_type": "code",
   "execution_count": 67,
   "metadata": {},
   "outputs": [],
   "source": [
    "school_grade.sort()"
   ]
  },
  {
   "cell_type": "code",
   "execution_count": 68,
   "metadata": {},
   "outputs": [
    {
     "data": {
      "text/plain": [
       "array(['10th', '11th', '12th', '9th'], dtype=object)"
      ]
     },
     "execution_count": 68,
     "metadata": {},
     "output_type": "execute_result"
    }
   ],
   "source": [
    "school_grade"
   ]
  },
  {
   "cell_type": "code",
   "execution_count": 97,
   "metadata": {},
   "outputs": [
    {
     "data": {
      "text/plain": [
       "12"
      ]
     },
     "execution_count": 97,
     "metadata": {},
     "output_type": "execute_result"
    }
   ],
   "source": [
    "int(school_grade[1][:2])"
   ]
  },
  {
   "cell_type": "code",
   "execution_count": 78,
   "metadata": {},
   "outputs": [
    {
     "data": {
      "text/plain": [
       "array(['9th', '12th', '11th', '10th'], dtype=object)"
      ]
     },
     "execution_count": 78,
     "metadata": {},
     "output_type": "execute_result"
    }
   ],
   "source": [
    "school_data_complete['grade'].unique()"
   ]
  },
  {
   "cell_type": "code",
   "execution_count": 83,
   "metadata": {},
   "outputs": [
    {
     "data": {
      "text/plain": [
       "4"
      ]
     },
     "execution_count": 83,
     "metadata": {},
     "output_type": "execute_result"
    }
   ],
   "source": [
    "len(school_grade[2])"
   ]
  },
  {
   "cell_type": "code",
   "execution_count": 116,
   "metadata": {},
   "outputs": [
    {
     "data": {
      "text/plain": [
       "['9th', '10th', '11th', '12th']"
      ]
     },
     "execution_count": 116,
     "metadata": {},
     "output_type": "execute_result"
    }
   ],
   "source": []
  },
  {
   "cell_type": "code",
   "execution_count": 117,
   "metadata": {},
   "outputs": [],
   "source": []
  },
  {
   "cell_type": "code",
   "execution_count": null,
   "metadata": {},
   "outputs": [],
   "source": []
  },
  {
   "cell_type": "code",
   "execution_count": null,
   "metadata": {},
   "outputs": [],
   "source": []
  }
 ],
 "metadata": {
  "kernelspec": {
   "display_name": "Python 3",
   "language": "python",
   "name": "python3"
  },
  "language_info": {
   "codemirror_mode": {
    "name": "ipython",
    "version": 3
   },
   "file_extension": ".py",
   "mimetype": "text/x-python",
   "name": "python",
   "nbconvert_exporter": "python",
   "pygments_lexer": "ipython3",
   "version": "3.6.6"
  }
 },
 "nbformat": 4,
 "nbformat_minor": 2
}
